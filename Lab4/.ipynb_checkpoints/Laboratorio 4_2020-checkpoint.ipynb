{
 "cells": [
  {
   "cell_type": "markdown",
   "metadata": {},
   "source": [
    "# SIMULACIÓN | LABORATORIO 4\n"
   ]
  },
  {
   "cell_type": "markdown",
   "metadata": {},
   "source": [
    "## Generación de número pseudo-aleatorios"
   ]
  },
  {
   "cell_type": "code",
   "execution_count": 317,
   "metadata": {},
   "outputs": [],
   "source": [
    "import numpy as np\n",
    "import matplotlib.pyplot as plt\n",
    "import pandas as pd\n",
    "import seaborn as sns\n",
    "import scipy \n",
    "from IPython.display import display\n",
    "import ipywidgets as widgets\n",
    "import random\n",
    "from ipywidgets import interact, interactive, fixed, interact_manual"
   ]
  },
  {
   "cell_type": "markdown",
   "metadata": {},
   "source": [
    "### El módulo Random de python \n"
   ]
  },
  {
   "cell_type": "markdown",
   "metadata": {},
   "source": [
    "**Ejercicio 1:**\n",
    "- Defina lo que es una semilla y para qué sirve\n",
    "- use random.random() para generar números aleatorios. \n",
    "- use una semilla con random.seed(semilla), y vuelva a ejecutar random.random()\n",
    "- ¿qué ocurre si vuelve a definir la misma semilla y ejecutar random.random()?\n",
    "\n"
   ]
  },
  {
   "cell_type": "markdown",
   "metadata": {},
   "source": [
    "**Resolucion 1:**\n",
    "- 1.1) Una semilla es un valor utilizado para generar datos al azar. esta semilla nos permitira generar los mismos valores aleatorios que se generaron anteriormente en ella, la cual nos podria ser util para reproducir experimentes, entre otras cosas."
   ]
  },
  {
   "cell_type": "markdown",
   "metadata": {},
   "source": [
    "- 1.2) "
   ]
  },
  {
   "cell_type": "code",
   "execution_count": 25,
   "metadata": {},
   "outputs": [
    {
     "name": "stdout",
     "output_type": "stream",
     "text": [
      "0.06727664581038872\n",
      "0.25068246842441855\n",
      "0.47431915237210553\n",
      "0.41815564519418935\n",
      "0.4637029099827057\n",
      "0.06769978299740442\n",
      "0.9394007165517057\n",
      "0.45596120169659304\n",
      "0.6726790553553693\n",
      "0.17771817996314787\n"
     ]
    }
   ],
   "source": [
    "for i in range(10):\n",
    "    print(random.random())"
   ]
  },
  {
   "cell_type": "markdown",
   "metadata": {},
   "source": [
    "Al utilizar la funcion random.random() podemos ver que cada vez que se ejecuta obtenemos nuevos numeros aleatorios"
   ]
  },
  {
   "cell_type": "markdown",
   "metadata": {},
   "source": [
    "- 1.3)"
   ]
  },
  {
   "cell_type": "code",
   "execution_count": 37,
   "metadata": {},
   "outputs": [
    {
     "name": "stdout",
     "output_type": "stream",
     "text": [
      "0.7314614662926701\n",
      "0.06727664581038872\n",
      "0.25068246842441855\n",
      "0.47431915237210553\n",
      "0.41815564519418935\n",
      "0.4637029099827057\n",
      "0.06769978299740442\n",
      "0.9394007165517057\n",
      "0.45596120169659304\n",
      "0.6726790553553693\n"
     ]
    }
   ],
   "source": [
    "random.seed('semilla')\n",
    "for i in range(10):\n",
    "    print(random.random())"
   ]
  },
  {
   "cell_type": "markdown",
   "metadata": {},
   "source": [
    "Al utilizar una semilla podemos ver que cada vez que se ejecuta obtenemos los mismos numeros aleatorios generados"
   ]
  },
  {
   "cell_type": "markdown",
   "metadata": {},
   "source": [
    "- 1.4)"
   ]
  },
  {
   "cell_type": "code",
   "execution_count": 41,
   "metadata": {},
   "outputs": [
    {
     "name": "stdout",
     "output_type": "stream",
     "text": [
      "0.7314614662926701\n",
      "0.06727664581038872\n",
      "0.25068246842441855\n",
      "0.47431915237210553\n",
      "0.41815564519418935\n",
      "0.4637029099827057\n",
      "0.06769978299740442\n",
      "0.9394007165517057\n",
      "0.45596120169659304\n",
      "0.6726790553553693\n"
     ]
    }
   ],
   "source": [
    "random.seed('semilla')\n",
    "for i in range(10):\n",
    "    print(random.random())"
   ]
  },
  {
   "cell_type": "markdown",
   "metadata": {},
   "source": [
    "Si se vuelve a definir la misma semilla, obtendremos los mismos valores obtenidos anteriormente"
   ]
  },
  {
   "cell_type": "markdown",
   "metadata": {},
   "source": [
    "**Ejercicio 2:**\n",
    "Pruebe las funciones y defina sus diferencias:\n",
    "\n",
    "    - random.randint(a, b)\n",
    "    - random.randrange(a, b)\n",
    "    - random.uniform(a, b)\n",
    "    "
   ]
  },
  {
   "cell_type": "markdown",
   "metadata": {},
   "source": [
    "**Resolucion 2:**\n"
   ]
  },
  {
   "cell_type": "markdown",
   "metadata": {},
   "source": [
    "- **randint**\n"
   ]
  },
  {
   "cell_type": "code",
   "execution_count": 69,
   "metadata": {},
   "outputs": [
    {
     "name": "stdout",
     "output_type": "stream",
     "text": [
      "9\n",
      "8\n",
      "9\n",
      "10\n",
      "5\n",
      "1\n",
      "6\n",
      "4\n",
      "4\n",
      "5\n"
     ]
    }
   ],
   "source": [
    "for i in range(10):\n",
    "    print(random.randint(1, 10))"
   ]
  },
  {
   "cell_type": "markdown",
   "metadata": {},
   "source": [
    "Podemos ver que esta funcion nos devuelve un numero random de tipo INT entre a y b"
   ]
  },
  {
   "cell_type": "markdown",
   "metadata": {},
   "source": [
    "- **randrange**\n"
   ]
  },
  {
   "cell_type": "code",
   "execution_count": 99,
   "metadata": {},
   "outputs": [
    {
     "name": "stdout",
     "output_type": "stream",
     "text": [
      "1\n",
      "1\n",
      "1\n",
      "1\n",
      "1\n",
      "1\n",
      "1\n",
      "1\n",
      "1\n",
      "1\n"
     ]
    }
   ],
   "source": [
    "for i in range(10):\n",
    "    print(random.randrange(1, 2))\n",
    "    "
   ]
  },
  {
   "cell_type": "markdown",
   "metadata": {},
   "source": [
    "Esta funcion nos devuelve un numero random de tipo INT entre a y b-1"
   ]
  },
  {
   "cell_type": "markdown",
   "metadata": {},
   "source": [
    "- **uniform**\n"
   ]
  },
  {
   "cell_type": "code",
   "execution_count": 117,
   "metadata": {},
   "outputs": [
    {
     "name": "stdout",
     "output_type": "stream",
     "text": [
      "5.922468051990238\n",
      "6.451131653483052\n",
      "5.922291405927816\n",
      "3.4210727026076313\n",
      "2.699843035676942\n",
      "6.831358279166989\n",
      "3.3316127075983997\n",
      "5.177284241124954\n",
      "8.313142874590852\n",
      "2.439915244416577\n"
     ]
    }
   ],
   "source": [
    "for i in range(10):\n",
    "    print(random.uniform(1, 10))"
   ]
  },
  {
   "cell_type": "markdown",
   "metadata": {},
   "source": [
    "Esta funcion nos devuelve un numero random de tipo FLOAT entre a y b"
   ]
  },
  {
   "cell_type": "markdown",
   "metadata": {},
   "source": [
    "- **Diferencias**\n"
   ]
  },
  {
   "cell_type": "markdown",
   "metadata": {},
   "source": [
    "Podemos observar que **randint** y **randrange** nos devuelve un numero random de tipo **INT**, pero la diferencia entre estos esta en los rangos en que devuelve estos valores. **randint** nos devuelve valores entre a y b, en cambio **randrange** nos devuelve valores entre a y b-1. por otro lado estas funciones se diferencian de **uniform** en sus tipos ya que esta ultima nos arroja valores de tipo **FLOAT**"
   ]
  },
  {
   "cell_type": "markdown",
   "metadata": {},
   "source": [
    "### Clase NotSoRandom:"
   ]
  },
  {
   "cell_type": "code",
   "execution_count": 249,
   "metadata": {},
   "outputs": [],
   "source": [
    "class NotSoRandom(object):\n",
    "    def seed(self, a=3):\n",
    "        \"\"\"Seed the world's most mysterious random number generator.\"\"\"\n",
    "        self.seedval = a\n",
    "    def random(self):\n",
    "        \"\"\"Look, random numbers!\"\"\"\n",
    "        self.seedval = (self.seedval * 3) % 19\n",
    "        return self.seedval\n",
    "\n",
    "_inst = NotSoRandom()\n",
    "seed = _inst.seed\n",
    "random = _inst.random\n"
   ]
  },
  {
   "cell_type": "markdown",
   "metadata": {},
   "source": [
    "**Ejercicio 3:**\n",
    "- use la semilla 1234 y genere números aleatorios hasta que se cumpla un ciclo completo. ¿Cuál resultó ser el periodo?\n",
    "- Intente con otra semilla y busque completar un ciclo. "
   ]
  },
  {
   "cell_type": "markdown",
   "metadata": {},
   "source": [
    "**Resolucion 3:**"
   ]
  },
  {
   "cell_type": "markdown",
   "metadata": {},
   "source": [
    "- 3.1)"
   ]
  },
  {
   "cell_type": "code",
   "execution_count": 305,
   "metadata": {},
   "outputs": [],
   "source": [
    "def f(x):\n",
    "    numeros = []\n",
    "    seed(1234)\n",
    "    for i in range(x):\n",
    "        numeros += [random()]\n",
    "    fig, ax = plt.subplots(1, 1,figsize=(10, 4), dpi=80)\n",
    "    ax.plot(numeros)\n",
    "    ax.set_xticks(np.arange(1, 50, 2));"
   ]
  },
  {
   "cell_type": "code",
   "execution_count": 306,
   "metadata": {},
   "outputs": [
    {
     "data": {
      "application/vnd.jupyter.widget-view+json": {
       "model_id": "75aa2cd5714a42faa73bb5833b833f5e",
       "version_major": 2,
       "version_minor": 0
      },
      "text/plain": [
       "interactive(children=(IntSlider(value=25, description='x', max=50), Output()), _dom_classes=('widget-interact'…"
      ]
     },
     "metadata": {},
     "output_type": "display_data"
    }
   ],
   "source": [
    "interact(f, x=(0,50));"
   ]
  },
  {
   "cell_type": "markdown",
   "metadata": {},
   "source": [
    "De esta grafica podemos ver que entre 4 y 22 se cumple un ciclo, por lo que el periodo de este ciclo es **18**. dado esto podemos decir que este generador de numeros aleatorios no es muy bueno, ya que se llega a la existencia de patrones en un tiempo muy corto."
   ]
  },
  {
   "cell_type": "markdown",
   "metadata": {},
   "source": [
    "- 3.2)"
   ]
  },
  {
   "cell_type": "code",
   "execution_count": 309,
   "metadata": {},
   "outputs": [],
   "source": [
    "def f(x):\n",
    "    numeros = []\n",
    "    seed(4321)\n",
    "    for i in range(x):\n",
    "        numeros += [random()]\n",
    "    fig, ax = plt.subplots(1, 1,figsize=(10, 4), dpi=80)\n",
    "    ax.plot(numeros)\n",
    "    ax.set_xticks(np.arange(1, 50, 2));"
   ]
  },
  {
   "cell_type": "code",
   "execution_count": 310,
   "metadata": {},
   "outputs": [
    {
     "data": {
      "application/vnd.jupyter.widget-view+json": {
       "model_id": "029cedc633244716becf3a818d0a74ad",
       "version_major": 2,
       "version_minor": 0
      },
      "text/plain": [
       "interactive(children=(IntSlider(value=25, description='x', max=50), Output()), _dom_classes=('widget-interact'…"
      ]
     },
     "metadata": {},
     "output_type": "display_data"
    }
   ],
   "source": [
    "interact(f, x=(0,50));"
   ]
  },
  {
   "cell_type": "markdown",
   "metadata": {},
   "source": [
    "De este grafico podemos ver que el primer ciclo empieza en 3 y termina en 21 por lo que el periodo de los ciclos al cambiar la semilla sigue siendo **18**. por lo que el generador de numeros aleatorios sigue siendo malo independiente de la semilla que se escoja."
   ]
  },
  {
   "cell_type": "markdown",
   "metadata": {},
   "source": [
    "#### **Ejercicio 4:**\n",
    "En este ejercicio vamos a comparar el generador de la biblioteca Random de Python con el generador de números pseudo-aleatorios congruencial lineal descrito en la sesión téórica. Para ello se pide lo siguiente:\n",
    "1. Programe el generador de números pseudo-aleatorios congruencial lineal \n",
    "2. Extraiga secuencias del generador programado y del predefinido en Python, grafique en histogramas, compare y concluya.\n"
   ]
  },
  {
   "cell_type": "markdown",
   "metadata": {},
   "source": [
    "**Resolucion 4:**"
   ]
  },
  {
   "cell_type": "markdown",
   "metadata": {},
   "source": [
    "- **4.1)**"
   ]
  },
  {
   "cell_type": "markdown",
   "metadata": {},
   "source": [
    "**LCG**"
   ]
  },
  {
   "cell_type": "code",
   "execution_count": 399,
   "metadata": {},
   "outputs": [],
   "source": [
    "def lcg(a,c,m,x0,n):\n",
    "    numeros = []\n",
    "    for i in range(n):\n",
    "        x0 = (a*x0 +c) % m\n",
    "        numeros += [x0 / m]\n",
    "    return numeros\n",
    "def seedLcg(valor_inicial):\n",
    "    x0 = valor_inicial\n",
    "    return x0"
   ]
  },
  {
   "cell_type": "code",
   "execution_count": 410,
   "metadata": {
    "scrolled": true
   },
   "outputs": [
    {
     "data": {
      "text/plain": [
       "[7.826369259425611e-06,\n",
       " 0.13153778814316625,\n",
       " 0.7556053221950332,\n",
       " 0.4586501319234493,\n",
       " 0.5327672374121692,\n",
       " 0.21895918632809036,\n",
       " 0.04704461621448613,\n",
       " 0.678864716868319,\n",
       " 0.6792964058366122,\n",
       " 0.9346928959408276]"
      ]
     },
     "execution_count": 410,
     "metadata": {},
     "output_type": "execute_result"
    }
   ],
   "source": [
    "semilla = seedLcg(1)\n",
    "lcg(16807,0,2147483647,semilla,10) # donde lcg(alfa,c,modulo,semilla,numero de iteraciones)"
   ]
  },
  {
   "cell_type": "markdown",
   "metadata": {},
   "source": [
    "- **4.2)**"
   ]
  },
  {
   "cell_type": "markdown",
   "metadata": {},
   "source": [
    "**Extraccion de secuencia del lcg**"
   ]
  },
  {
   "cell_type": "code",
   "execution_count": 443,
   "metadata": {},
   "outputs": [],
   "source": [
    "semilla = seedLcg(1)\n",
    "lcg_extract = lcg(16807,0,2147483647,semilla,1000000)"
   ]
  },
  {
   "cell_type": "markdown",
   "metadata": {},
   "source": [
    "**Extraccion del generador predefinido en python**"
   ]
  },
  {
   "cell_type": "code",
   "execution_count": 444,
   "metadata": {},
   "outputs": [],
   "source": [
    "gpython_extract = []\n",
    "for i in range(1000000):\n",
    "    gpython_extract += [random.random()]"
   ]
  },
  {
   "cell_type": "code",
   "execution_count": 448,
   "metadata": {},
   "outputs": [
    {
     "data": {
      "text/plain": [
       "(array([ 99989.,  99942.,  99896.,  99710., 100008., 100559., 100428.,\n",
       "         99877.,  99876.,  99715.]),\n",
       " array([4.67058271e-07, 1.00000415e-01, 2.00000363e-01, 3.00000311e-01,\n",
       "        4.00000259e-01, 5.00000207e-01, 6.00000154e-01, 7.00000102e-01,\n",
       "        8.00000050e-01, 8.99999998e-01, 9.99999946e-01]),\n",
       " <BarContainer object of 10 artists>)"
      ]
     },
     "execution_count": 448,
     "metadata": {},
     "output_type": "execute_result"
    },
    {
     "data": {
      "image/png": "[encoded data removed]",
      "text/plain": [
       "<Figure size 432x288 with 1 Axes>"
      ]
     },
     "metadata": {
      "needs_background": "light"
     },
     "output_type": "display_data"
    }
   ],
   "source": [
    "plt.hist(lcg_extract,edgecolor = 'black')"
   ]
  },
  {
   "cell_type": "code",
   "execution_count": 447,
   "metadata": {},
   "outputs": [
    {
     "data": {
      "text/plain": [
       "(array([100082., 100069.,  99879.,  99867.,  99737., 100407., 100178.,\n",
       "        100310.,  99764.,  99707.]),\n",
       " array([2.97997790e-06, 1.00002459e-01, 2.00001937e-01, 3.00001416e-01,\n",
       "        4.00000895e-01, 5.00000373e-01, 5.99999852e-01, 6.99999331e-01,\n",
       "        7.99998809e-01, 8.99998288e-01, 9.99997767e-01]),\n",
       " <BarContainer object of 10 artists>)"
      ]
     },
     "execution_count": 447,
     "metadata": {},
     "output_type": "execute_result"
    },
    {
     "data": {
      "image/png": "[encoded data removed]",
      "text/plain": [
       "<Figure size 432x288 with 1 Axes>"
      ]
     },
     "metadata": {
      "needs_background": "light"
     },
     "output_type": "display_data"
    }
   ],
   "source": [
    "plt.hist(gpython_extract, edgecolor = 'black')\n"
   ]
  },
  {
   "cell_type": "markdown",
   "metadata": {},
   "source": [
    "Como podemos ver el grafico del LCG con los respectivos valores de a,m,c utilizados anteriormente. tendera a obtener la misma probabilidad en cada intervalo, lo cual esto es muy bueno ya que la entropia del LCG seria maxima. Al ocurrir esto tenemos la certeza de que los valores escogidos seran aleatoriamente mejor por lo cual no se ocasionarian los ciclos que se vieron en el item anterior."
   ]
  },
  {
   "cell_type": "markdown",
   "metadata": {},
   "source": [
    "Por otro lado el generador de numeros aleatorios de python igual tenderia a conseguir la entropia maxima, pero esta se conseguiria con una secuencia mucho mas grande que con LCG."
   ]
  },
  {
   "cell_type": "markdown",
   "metadata": {},
   "source": [
    "#### **Ejercicio 5:**\n",
    "Escoja una distribución de probabilidad continua.\n",
    "1. Utilice un método predefinido en Python para generar una secuencia de valores pseudo-aleatorios provenientes de dicha distribución\n",
    "2. Genere una secuencia considerando el algoritmo de la transformada inversa.\n",
    "3. Grafique en histogramas y compare las secuencias en (1) y (2) utilizando el test de k-s"
   ]
  },
  {
   "cell_type": "markdown",
   "metadata": {},
   "source": [
    "#### **Ejercicio 6:**\n",
    "Escoja una distribución de probabilidad discreta.\n",
    "1. Utilice un método predefinido en Python para generar una secuencia de valores pseudo-aleatorios provenientes de dicha distribución\n",
    "2. Genere una secuencia considerando el algoritmo de la transformada inversa.\n",
    "3. Grafique en histogramas y compare las secuencias en (1) y (2). ¿Qué test sería adecuado utilizar en este caso?"
   ]
  },
  {
   "cell_type": "markdown",
   "metadata": {},
   "source": [
    "**Referencias:**\n",
    "    \n",
    "- Generating Random Data in Python (Guide): https://realpython.com/python-random/\n",
    "\n",
    "- Generación de números pseudo-aleatorios: https://www.youtube.com/watch?v=C82JyCmtKWg"
   ]
  },
  {
   "cell_type": "code",
   "execution_count": null,
   "metadata": {},
   "outputs": [],
   "source": []
  }
 ],
 "metadata": {
  "kernelspec": {
   "display_name": "Python 3",
   "language": "python",
   "name": "python3"
  },
  "language_info": {
   "codemirror_mode": {
    "name": "ipython",
    "version": 3
   },
   "file_extension": ".py",
   "mimetype": "text/x-python",
   "name": "python",
   "nbconvert_exporter": "python",
   "pygments_lexer": "ipython3",
   "version": "3.8.3"
  }
 },
 "nbformat": 4,
 "nbformat_minor": 2
}
