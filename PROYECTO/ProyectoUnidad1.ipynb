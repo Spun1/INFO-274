{
 "cells": [
  {
   "cell_type": "markdown",
   "metadata": {},
   "source": [
    "# SIMULACIÓN | PROYECTO1_BARRIENTOS_BUSTAMANTE\n",
    "\n",
    "\n"
   ]
  },
  {
   "cell_type": "markdown",
   "metadata": {},
   "source": [
    "## INSTRUCCIONES\n",
    "\n",
    "- El objetivo del proyecto es poner en práctica los contenidos aprendidos en la primera unidad de Probabilidades, con el uso de un set de datos real extraidos de un medio libre. En algunos casos deberá investigar ciertos contenidos para apoyar sus conclusiones.  \n",
    "\n",
    "\n",
    "- Se presentan las actividades a desarrollar, cada una de ella contiene un set de instrucciones, preguntas y su puntaje asociado. Las preguntas deben ser respondidas en celdas de texto (no se considera respuesta si está en un comentario entre las líneas de código)\n",
    "\n",
    "\n",
    "- Al finalizar presente las conclusiones de su trabajo. \n",
    "\n",
    "\n",
    "- Debe subir a siveduc en la tarea Proyecto1, su notebook y el archivo de datos utilizado.\n",
    "\n",
    "\n",
    "- El título del notebook debe ser: proyecto1_Apellido1_Apellido2_Apellido3\n",
    "\n",
    "\n",
    "- Fecha límite de entrega: 9 de noviembre 23:59 horas.  \n",
    "\n",
    "\n",
    "- Este trabajo pondera un 25% del total del curso "
   ]
  },
  {
   "cell_type": "markdown",
   "metadata": {},
   "source": [
    "**Integrantes: Maria Barrientos - Reinaldo Bustamante** "
   ]
  },
  {
   "cell_type": "code",
   "execution_count": 269,
   "metadata": {},
   "outputs": [],
   "source": [
    "\n",
    "# Pandas and numpy for data manipulation\n",
    "%matplotlib notebook\n",
    "import pandas as pd\n",
    "import numpy as np\n",
    "import scipy.stats \n",
    "# Matplotlib and seaborn for plotting\n",
    "import matplotlib.pyplot as plt\n",
    "import matplotlib\n",
    "import scipy.stats as stats\n",
    "%matplotlib inline\n",
    "\n",
    "matplotlib.rcParams['font.size'] = 10\n",
    "matplotlib.rcParams['figure.dpi'] = 100\n",
    "\n",
    "import seaborn as sns\n",
    "\n",
    "from IPython.core.pylabtools import figsize"
   ]
  },
  {
   "cell_type": "code",
   "execution_count": 229,
   "metadata": {},
   "outputs": [],
   "source": [
    "import random"
   ]
  },
  {
   "cell_type": "markdown",
   "metadata": {},
   "source": [
    "## Parte I : Propiedades de las Probabilidades\n",
    "\n"
   ]
  },
  {
   "cell_type": "markdown",
   "metadata": {},
   "source": [
    "A continuación se presenta la simulación de una población, representada por el dinero que dispone cada persona y sus transacciones económicas. \n",
    "\n",
    "1. (0,8 pts) En este contexto, defina 3 eventos de interés A, B y C, y por medio de la simulación calcule: \n",
    "    \n",
    "    (a) ${P(A)}$, ${P(B)}$, ${P(C)}$ \n",
    "    \n",
    "    (b) ${P(A \\cup B)}$ \n",
    "\n",
    "    (c) ${P(A \\cap C)}$\n",
    "\n",
    "Ejemplos de eventos de interés (defina sus propios eventos):\n",
    "- La mediana de la población es mayor o igual que $x$ pesos.\n",
    "- El percentil 10% es mayor o igual que $y$ pesos\n",
    "- El coeficiente de gini de la población es menor que $0.3$\n",
    "\n",
    "\n",
    "\n",
    "2. (0,6 pts) Defina una probabilidad condicional no independiente y calcúlela por medio de la simulación considerando el teorema de Bayes. Escriba la formulación del teorema aplicado a su caso (Prob. Cond, a priori, verosimilitud y evidencia). \n",
    "\n",
    "\n",
    "\n",
    "#### Referencia:\n",
    "https://nbviewer.jupyter.org/url/norvig.com/ipython/Economics.ipynb"
   ]
  },
  {
   "cell_type": "markdown",
   "metadata": {},
   "source": [
    "**gini**: Definición de la métrica de equidad de gini \n",
    "\n",
    "**transaccion**: accion de intercambio de dinero, puede ser justa o injusta\n",
    "\n",
    "**interaccion**: eleccion de los actores que realizan la transacción\n",
    "\n",
    "**simula**: funcion de simulacion, dinerop: lista que representa la cantidad de dinero actual que tiene cada persona, T: cantidad de iteraciones "
   ]
  },
  {
   "cell_type": "code",
   "execution_count": 195,
   "metadata": {},
   "outputs": [],
   "source": [
    "def gini(y):\n",
    "    \"Calcula el coeficiente de Gini: una medida de la equidad/inequidad en la\"\n",
    "    \"población y (representada por una lista que contabiliza el dinero actual de cada persona.\"\n",
    "    y = sorted(y)\n",
    "    n = len(y)\n",
    "    numer = 2 * sum((i+1) * y[i] for i in range(n))\n",
    "    denom = n * sum(y)\n",
    "    return (numer / denom) - (n + 1) / n\n",
    "\n",
    "def transaccion(A, B):\n",
    "    \"Reune el dinero de A y B en un pozo y luego lo distribuye aleatoriamente entre los dos actores.\"\n",
    "    pozo = A + B\n",
    "    parte1 = random.uniform(0, pozo)\n",
    "    return parte1, pozo - parte1\n",
    "\n",
    "def transaccion_injusta(A, B): return random.choice(([A + B, 0], [0, A + B]))\n",
    "\n",
    "def interaccion(N): return random.sample(range(N), 2)\n",
    "\n",
    "def percent(pct, items):\n",
    "    \"The item that is pct percent through the sorted list of items.\"\n",
    "    return items[min(len(items)-1, len(items) * pct // 100)]\n",
    "\n"
   ]
  },
  {
   "cell_type": "markdown",
   "metadata": {},
   "source": [
    "**SIMULACIÓN: modifíquela para realizar sus cálculos **"
   ]
  },
  {
   "cell_type": "code",
   "execution_count": 196,
   "metadata": {},
   "outputs": [],
   "source": [
    "\n",
    "def simula(dinerop, T):\n",
    "    \"Ejecuta simulacion de dinerop para T transacciones; devuelve dinerop en cada paso.\" \n",
    "    dinerop = dinerop.copy()\n",
    "    yield dinerop\n",
    "    for t in range(1, T + 1):\n",
    "        i, j = interaccion(len(dinerop))\n",
    "        dinerop[i], dinerop[j] = transaccion(dinerop[i], dinerop[j]) \n",
    "        yield dinerop"
   ]
  },
  {
   "cell_type": "markdown",
   "metadata": {},
   "source": [
    "*** Ejemplo de la simulación con una poblacion, donde los cuatro actores inician con 100$ y 8 iteraciones ***"
   ]
  },
  {
   "cell_type": "code",
   "execution_count": 197,
   "metadata": {},
   "outputs": [
    {
     "name": "stdout",
     "output_type": "stream",
     "text": [
      "[100, 100, 100, 100]\n",
      "[146.20525046190363, 100, 53.794749538096376, 100]\n",
      "[146.20525046190363, 98.64147666532266, 53.794749538096376, 101.35852333467734]\n",
      "[146.20525046190363, 21.549214907902154, 130.88701129551688, 101.35852333467734]\n",
      "[139.2517204433968, 21.549214907902154, 130.88701129551688, 108.31205335318415]\n",
      "[21.005396209630025, 139.79553914166894, 130.88701129551688, 108.31205335318415]\n",
      "[131.6054566974445, 139.79553914166894, 20.286950807702407, 108.31205335318415]\n",
      "[38.58937989176281, 232.81161594735062, 20.286950807702407, 108.31205335318415]\n",
      "[68.25424405824506, 232.81161594735062, 20.286950807702407, 78.6471891867019]\n"
     ]
    }
   ],
   "source": [
    "#Ejemplo simple de simular una población de 4 actores, con $100 cada uno inicialmente y 8 iteraciones:\n",
    "for pop in simula([100] * 4, 8):\n",
    "    print(pop)"
   ]
  },
  {
   "cell_type": "markdown",
   "metadata": {},
   "source": [
    "*** Puede tomar como ejemplo los siguientes gráficos y estadísticas presentadas *** "
   ]
  },
  {
   "cell_type": "code",
   "execution_count": 198,
   "metadata": {},
   "outputs": [],
   "source": [
    "import statistics\n",
    "\n",
    "def percent(pct, items):\n",
    "    \"Devuelve el item que corresponde al porcentaje pct (acumulado) en la lista ordenada de items.\"\n",
    "    return items[min(len(items)-1, len(items) * pct // 100)]\n",
    "\n",
    "def show(dinerop, k=40, percentiles=(1, 10, 50, 90, 99), **kwargs):\n",
    "    \"Ejecuta simulación en k*N pasos, imprimiendo estadísticos y desplegando un histograma. \"\n",
    "    N = len(dinerop)\n",
    "    inicio = list(dinerop)\n",
    "    resultado = [(t, sorted(pop)) # Ordena resultados para poder calcular percentiles\n",
    "               for (t, pop) in enumerate(simula(dinerop, k * N, **kwargs))\n",
    "               if t % (N / 10) == 0]\n",
    "    times = [t for (t, pop) in resultado]\n",
    "    # Printout:\n",
    "    print('   t    Gini stdev' + (' {:3d}%' * len(percentiles)).format(*percentiles))\n",
    "    print('------- ---- -----' + ' ----' * len(percentiles))\n",
    "    fmt = '{:7,d} {:.2f} {:5.1f}' + ' {:4.0f}' * len(percentiles)\n",
    "    for (t, pop) in resultado:\n",
    "        if t % (4 * N) == 0:\n",
    "            data = [percent(pct, pop) for pct in percentiles]\n",
    "            print(fmt.format(t, gini(pop), statistics.stdev(pop), *data))\n",
    "    # Plot:\n",
    "    plt.xlabel('riqueza'); plt.ylabel('tiempo'); plt.grid(True)\n",
    "    for pct in percentiles:\n",
    "        line = [percent(pct, pop) for (t, pop) in resultado]\n",
    "        plt.plot(line, times)\n",
    "    plt.show()\n",
    "    # Histogram:\n",
    "    R = (min(pop+inicio), max(pop+inicio))\n",
    "    plt.hist(inicio, label='inicio',range=R, alpha=0.5)\n",
    "    plt.hist(pop,label='final', range=R,alpha=0.5)\n",
    "    plt.legend(loc='upper right')\n",
    "    plt.show()           \n"
   ]
  },
  {
   "cell_type": "code",
   "execution_count": 199,
   "metadata": {
    "scrolled": true
   },
   "outputs": [
    {
     "name": "stdout",
     "output_type": "stream",
     "text": [
      "   t    Gini stdev   1%  10%  50%  90%  99%\n",
      "------- ---- ----- ---- ---- ---- ---- ----\n",
      "      0 0.11  20.0   55   75  100  126  148\n",
      " 20,000 0.49  96.6    1   11   71  230  441\n",
      " 40,000 0.50  99.8    1   11   70  231  454\n",
      " 60,000 0.50 100.7    1   10   69  230  467\n",
      " 80,000 0.50  98.7    1   11   71  229  461\n",
      "100,000 0.50  99.8    1   11   68  229  466\n",
      "120,000 0.50 101.5    1   11   70  233  480\n",
      "140,000 0.49  98.2    1   11   70  230  443\n",
      "160,000 0.50  99.6    1   11   69  231  457\n",
      "180,000 0.50 100.8    1   10   69  229  473\n",
      "200,000 0.50 100.2    1   11   69  227  461\n"
     ]
    },
    {
     "data": {
      "image/png": "[encoded data removed]",
      "text/plain": [
       "<Figure size 600x400 with 1 Axes>"
      ]
     },
     "metadata": {
      "needs_background": "light"
     },
     "output_type": "display_data"
    },
    {
     "data": {
      "image/png": "[encoded data removed]",
      "text/plain": [
       "<Figure size 600x400 with 1 Axes>"
      ]
     },
     "metadata": {
      "needs_background": "light"
     },
     "output_type": "display_data"
    }
   ],
   "source": [
    "N  = 5000 # Tamaño de la población\n",
    "MU = 100. # Dinero medio en la población\n",
    "\n",
    "dinerop = [random.gauss(mu=MU, sigma=MU/5) for actor in range(N)]\n",
    "\n",
    "show(dinerop)"
   ]
  },
  {
   "cell_type": "markdown",
   "metadata": {},
   "source": [
    "## Parte II: Distribuciones "
   ]
  },
  {
   "cell_type": "markdown",
   "metadata": {},
   "source": [
    "Busque un conjunto de datos disponible en un repositorio público, que contenga un conjunto de datos de una variable aleatoria. Utilice el set de datos para realizar las siguientes actividades:\n",
    "\n",
    "Ejemplo de repositorio: https://archive.ics.uci.edu/ml/datasets.php . \n",
    "\n",
    "0. Indique la fuente de sus datos. \n",
    "\n",
    "\n",
    "1. (0,6 pts) Descripcion de datos: tome un conjunto de datos en ${\\cal R}$ y descríbalo estadísticamente, grafique histograma y distribución de probabilidad empírica. Mencione alguna característica particular de su set de datos. \n",
    "\n",
    "2. (0,8 pts) Seleccione aleatoriamente una cantidadN de sus datos y calcule sus estadísticos muestrales (al menos 3), luego aumente la cantidad de datos seleccionado (N++), grafique los valores de los estadísticos muestrales en cada iteración ¿qué ocurre con los estadísticos muestrales a medida que aumenta N?. Investigue y responda en base a la ley de los grandes números.\n",
    "\n",
    "3. (0,8 pts) Divida su set de datos en distintos grupos (aleatoriamente) y calcule los estadísticos muestrales de cada grupo y grafique el histograma resultante. Por ejemplo: para el caso de la media, debe calcular la media para cada grupo y luego graficar el histograma del conjunto de medias. ¿los estadísticos muestrales cumplen el Teorema del Límite Central? Justifique su respuesta.\n",
    "\n",
    "4. (0,6 pts) Defina una hipótesis sobre la distribución que siguen sus datos, utilice el test Kolmogorov-Smirnov ¿Puede rechazar la hipótesis? (usando un 95% de confianza). Comente sus resultados.\n",
    "\n",
    "5. (0,8 pts) Calcule la incerteza de sus estadísticos muestrales utilizando bootstrap. Interprete sus resultados. \n"
   ]
  },
  {
   "cell_type": "markdown",
   "metadata": {},
   "source": [
    "### Referencias útiles para la parte II: \n",
    "\n",
    "\n",
    "\n",
    "[1] **Ley de los grandes números:**  https://nbviewer.jupyter.org/github/CamDavidsonPilon/Probabilistic-Programming-and-Bayesian-Methods-for-Hackers/blob/master/Chapter4_TheGreatestTheoremNeverTold/Ch4_LawOfLargeNumbers_PyMC3.ipynb\n",
    "\n",
    "\n",
    "[2] Ross, https://drive.google.com/file/d/1tenWSvfAU2336m-km4vRMorKmDIQRKme/view?usp=sharing"
   ]
  },
  {
   "cell_type": "markdown",
   "metadata": {},
   "source": [
    "## Parte III: Conclusiones\n",
    "\n",
    "\n",
    "1. (0,8 pts) Presente las conclusiones de su trabajo. \n",
    "\n",
    "2. (0,2 pts) Además reflexione respecto a qué significa que los datos sean **independientes e identicamente distribuidos** y por qué se debe cumplir esta condición en los grupos seleccionados aleatoriamente en las preguntas 2 y 3 de la parte II (puede reflexionar en torno a qué pasaría si no lo fueran) \n"
   ]
  },
  {
   "cell_type": "markdown",
   "metadata": {},
   "source": [
    "**------------------------------------------------------------------------------------------------------------------------------------------------------------------------------------------------------------------**"
   ]
  },
  {
   "cell_type": "markdown",
   "metadata": {},
   "source": [
    "# Desarrollo"
   ]
  },
  {
   "cell_type": "markdown",
   "metadata": {},
   "source": [
    "**------------------------------------------------------------------------------------------------------------------------------------------------------------------------------------------------------------------**"
   ]
  },
  {
   "cell_type": "markdown",
   "metadata": {},
   "source": [
    "## Parte I : Propiedades de las Probabilidades"
   ]
  },
  {
   "cell_type": "markdown",
   "metadata": {},
   "source": [
    "**Definicion de eventos**"
   ]
  },
  {
   "cell_type": "markdown",
   "metadata": {},
   "source": [
    "**1.a)**"
   ]
  },
  {
   "cell_type": "markdown",
   "metadata": {},
   "source": [
    "**1.b)**"
   ]
  },
  {
   "cell_type": "markdown",
   "metadata": {},
   "source": [
    "**1.c)**"
   ]
  },
  {
   "cell_type": "markdown",
   "metadata": {},
   "source": [
    "**2)**"
   ]
  },
  {
   "cell_type": "markdown",
   "metadata": {},
   "source": [
    "## Parte II: Distribuciones "
   ]
  },
  {
   "cell_type": "markdown",
   "metadata": {},
   "source": [
    "**Fuente de datos a utilizar**"
   ]
  },
  {
   "cell_type": "code",
   "execution_count": 200,
   "metadata": {},
   "outputs": [],
   "source": [
    "abalone = pd.read_csv('data/abalone.data')\n"
   ]
  },
  {
   "cell_type": "code",
   "execution_count": 201,
   "metadata": {},
   "outputs": [
    {
     "data": {
      "text/html": [
       "<div>\n",
       "<style scoped>\n",
       "    .dataframe tbody tr th:only-of-type {\n",
       "        vertical-align: middle;\n",
       "    }\n",
       "\n",
       "    .dataframe tbody tr th {\n",
       "        vertical-align: top;\n",
       "    }\n",
       "\n",
       "    .dataframe thead th {\n",
       "        text-align: right;\n",
       "    }\n",
       "</style>\n",
       "<table border=\"1\" class=\"dataframe\">\n",
       "  <thead>\n",
       "    <tr style=\"text-align: right;\">\n",
       "      <th></th>\n",
       "      <th>Sexo</th>\n",
       "      <th>Largo(mm)</th>\n",
       "      <th>Diametro(mm)</th>\n",
       "      <th>Alto(mm)</th>\n",
       "      <th>Peso entero(g)</th>\n",
       "      <th>Peso sin concha(g)</th>\n",
       "      <th>Peso visceras(g)</th>\n",
       "      <th>Peso cascara(g)</th>\n",
       "      <th>anillos</th>\n",
       "    </tr>\n",
       "  </thead>\n",
       "  <tbody>\n",
       "    <tr>\n",
       "      <th>0</th>\n",
       "      <td>M</td>\n",
       "      <td>0.455</td>\n",
       "      <td>0.365</td>\n",
       "      <td>0.095</td>\n",
       "      <td>0.5140</td>\n",
       "      <td>0.2245</td>\n",
       "      <td>0.1010</td>\n",
       "      <td>0.1500</td>\n",
       "      <td>15</td>\n",
       "    </tr>\n",
       "    <tr>\n",
       "      <th>1</th>\n",
       "      <td>M</td>\n",
       "      <td>0.350</td>\n",
       "      <td>0.265</td>\n",
       "      <td>0.090</td>\n",
       "      <td>0.2255</td>\n",
       "      <td>0.0995</td>\n",
       "      <td>0.0485</td>\n",
       "      <td>0.0700</td>\n",
       "      <td>7</td>\n",
       "    </tr>\n",
       "    <tr>\n",
       "      <th>2</th>\n",
       "      <td>F</td>\n",
       "      <td>0.530</td>\n",
       "      <td>0.420</td>\n",
       "      <td>0.135</td>\n",
       "      <td>0.6770</td>\n",
       "      <td>0.2565</td>\n",
       "      <td>0.1415</td>\n",
       "      <td>0.2100</td>\n",
       "      <td>9</td>\n",
       "    </tr>\n",
       "    <tr>\n",
       "      <th>3</th>\n",
       "      <td>M</td>\n",
       "      <td>0.440</td>\n",
       "      <td>0.365</td>\n",
       "      <td>0.125</td>\n",
       "      <td>0.5160</td>\n",
       "      <td>0.2155</td>\n",
       "      <td>0.1140</td>\n",
       "      <td>0.1550</td>\n",
       "      <td>10</td>\n",
       "    </tr>\n",
       "    <tr>\n",
       "      <th>4</th>\n",
       "      <td>I</td>\n",
       "      <td>0.330</td>\n",
       "      <td>0.255</td>\n",
       "      <td>0.080</td>\n",
       "      <td>0.2050</td>\n",
       "      <td>0.0895</td>\n",
       "      <td>0.0395</td>\n",
       "      <td>0.0550</td>\n",
       "      <td>7</td>\n",
       "    </tr>\n",
       "    <tr>\n",
       "      <th>...</th>\n",
       "      <td>...</td>\n",
       "      <td>...</td>\n",
       "      <td>...</td>\n",
       "      <td>...</td>\n",
       "      <td>...</td>\n",
       "      <td>...</td>\n",
       "      <td>...</td>\n",
       "      <td>...</td>\n",
       "      <td>...</td>\n",
       "    </tr>\n",
       "    <tr>\n",
       "      <th>4172</th>\n",
       "      <td>F</td>\n",
       "      <td>0.565</td>\n",
       "      <td>0.450</td>\n",
       "      <td>0.165</td>\n",
       "      <td>0.8870</td>\n",
       "      <td>0.3700</td>\n",
       "      <td>0.2390</td>\n",
       "      <td>0.2490</td>\n",
       "      <td>11</td>\n",
       "    </tr>\n",
       "    <tr>\n",
       "      <th>4173</th>\n",
       "      <td>M</td>\n",
       "      <td>0.590</td>\n",
       "      <td>0.440</td>\n",
       "      <td>0.135</td>\n",
       "      <td>0.9660</td>\n",
       "      <td>0.4390</td>\n",
       "      <td>0.2145</td>\n",
       "      <td>0.2605</td>\n",
       "      <td>10</td>\n",
       "    </tr>\n",
       "    <tr>\n",
       "      <th>4174</th>\n",
       "      <td>M</td>\n",
       "      <td>0.600</td>\n",
       "      <td>0.475</td>\n",
       "      <td>0.205</td>\n",
       "      <td>1.1760</td>\n",
       "      <td>0.5255</td>\n",
       "      <td>0.2875</td>\n",
       "      <td>0.3080</td>\n",
       "      <td>9</td>\n",
       "    </tr>\n",
       "    <tr>\n",
       "      <th>4175</th>\n",
       "      <td>F</td>\n",
       "      <td>0.625</td>\n",
       "      <td>0.485</td>\n",
       "      <td>0.150</td>\n",
       "      <td>1.0945</td>\n",
       "      <td>0.5310</td>\n",
       "      <td>0.2610</td>\n",
       "      <td>0.2960</td>\n",
       "      <td>10</td>\n",
       "    </tr>\n",
       "    <tr>\n",
       "      <th>4176</th>\n",
       "      <td>M</td>\n",
       "      <td>0.710</td>\n",
       "      <td>0.555</td>\n",
       "      <td>0.195</td>\n",
       "      <td>1.9485</td>\n",
       "      <td>0.9455</td>\n",
       "      <td>0.3765</td>\n",
       "      <td>0.4950</td>\n",
       "      <td>12</td>\n",
       "    </tr>\n",
       "  </tbody>\n",
       "</table>\n",
       "<p>4177 rows × 9 columns</p>\n",
       "</div>"
      ],
      "text/plain": [
       "     Sexo  Largo(mm)  Diametro(mm)  Alto(mm)  Peso entero(g)  \\\n",
       "0       M      0.455         0.365     0.095          0.5140   \n",
       "1       M      0.350         0.265     0.090          0.2255   \n",
       "2       F      0.530         0.420     0.135          0.6770   \n",
       "3       M      0.440         0.365     0.125          0.5160   \n",
       "4       I      0.330         0.255     0.080          0.2050   \n",
       "...   ...        ...           ...       ...             ...   \n",
       "4172    F      0.565         0.450     0.165          0.8870   \n",
       "4173    M      0.590         0.440     0.135          0.9660   \n",
       "4174    M      0.600         0.475     0.205          1.1760   \n",
       "4175    F      0.625         0.485     0.150          1.0945   \n",
       "4176    M      0.710         0.555     0.195          1.9485   \n",
       "\n",
       "      Peso sin concha(g)  Peso visceras(g)  Peso cascara(g)  anillos  \n",
       "0                 0.2245            0.1010           0.1500       15  \n",
       "1                 0.0995            0.0485           0.0700        7  \n",
       "2                 0.2565            0.1415           0.2100        9  \n",
       "3                 0.2155            0.1140           0.1550       10  \n",
       "4                 0.0895            0.0395           0.0550        7  \n",
       "...                  ...               ...              ...      ...  \n",
       "4172              0.3700            0.2390           0.2490       11  \n",
       "4173              0.4390            0.2145           0.2605       10  \n",
       "4174              0.5255            0.2875           0.3080        9  \n",
       "4175              0.5310            0.2610           0.2960       10  \n",
       "4176              0.9455            0.3765           0.4950       12  \n",
       "\n",
       "[4177 rows x 9 columns]"
      ]
     },
     "execution_count": 201,
     "metadata": {},
     "output_type": "execute_result"
    }
   ],
   "source": [
    "abalone"
   ]
  },
  {
   "cell_type": "markdown",
   "metadata": {},
   "source": [
    "Los datos utilizados seran acerca de los abalotes, estos son unos moluscos perteneciente a la familia de moluscos gasteropodos.  \n",
    "A continuacion ocuparemos la columna Peso entero(g) para realizar el siguiente analisis  \n",
    "\n",
    "link: https://archive.ics.uci.edu/ml/datasets/Abalone"
   ]
  },
  {
   "cell_type": "markdown",
   "metadata": {},
   "source": [
    "**1)**"
   ]
  },
  {
   "cell_type": "markdown",
   "metadata": {},
   "source": [
    "**Descripcion de datos**"
   ]
  },
  {
   "cell_type": "code",
   "execution_count": 202,
   "metadata": {},
   "outputs": [],
   "source": [
    "datos = abalone['Peso entero(g)']"
   ]
  },
  {
   "cell_type": "code",
   "execution_count": 203,
   "metadata": {},
   "outputs": [
    {
     "data": {
      "text/plain": [
       "count    4177.000000\n",
       "mean        0.828742\n",
       "std         0.490389\n",
       "min         0.002000\n",
       "25%         0.441500\n",
       "50%         0.799500\n",
       "75%         1.153000\n",
       "max         2.825500\n",
       "Name: Peso entero(g), dtype: float64"
      ]
     },
     "execution_count": 203,
     "metadata": {},
     "output_type": "execute_result"
    }
   ],
   "source": [
    "datos.describe()"
   ]
  },
  {
   "cell_type": "markdown",
   "metadata": {},
   "source": [
    "**Histograma**"
   ]
  },
  {
   "cell_type": "code",
   "execution_count": 290,
   "metadata": {},
   "outputs": [
    {
     "data": {
      "image/png": "[encoded data removed]",
      "text/plain": [
       "<Figure size 1200x560 with 1 Axes>"
      ]
     },
     "metadata": {
      "needs_background": "light"
     },
     "output_type": "display_data"
    }
   ],
   "source": [
    "fig, ax = plt.subplots(1, 1,figsize=(15, 7), dpi=80)\n",
    "\n",
    "# Make the histogram using matplotlib, bins must be integet\n",
    "ax.hist(datos, color = 'blue',edgecolor='black', bins=(int(2.8/0.1)))\n",
    "\n",
    "plt.title('Histogram Peso Abalone')\n",
    "plt.xlabel('Peso (g)'); plt.ylabel('Individuo');\n",
    "plt.xticks(np.arange(0, 2.8, 0.1))\n",
    "\n",
    "plt.show()"
   ]
  },
  {
   "cell_type": "markdown",
   "metadata": {},
   "source": [
    "Podemos ver que este histograma se parece a la distribucion lognormal. por lo cual ocuparemos esta distribucion como referencia "
   ]
  },
  {
   "cell_type": "markdown",
   "metadata": {},
   "source": [
    "**Distribucion de probabilidad empirica**"
   ]
  },
  {
   "cell_type": "code",
   "execution_count": 307,
   "metadata": {},
   "outputs": [
    {
     "name": "stdout",
     "output_type": "stream",
     "text": [
      "(0.28548767209391646, -0.8975435734124296, 1.6581029536112977)\n"
     ]
    },
    {
     "data": {
      "image/png": "[encoded data removed]",
      "text/plain": [
       "<Figure size 1200x560 with 2 Axes>"
      ]
     },
     "metadata": {
      "needs_background": "light"
     },
     "output_type": "display_data"
    }
   ],
   "source": [
    "## ajuste de distribución LogNormal considerando Estimadores de MV\n",
    "fig, ax = plt.subplots(1, 1,figsize=(15, 7), dpi=80)\n",
    "\n",
    "ax.hist(datos, color = 'blue',edgecolor='black', bins=(int(2.8/0.1)))\n",
    "ax2 = ax.twinx()\n",
    "args_temp = scipy.stats.lognorm.fit(datos)\n",
    "print(args)\n",
    "vec = list(range(25))\n",
    "\n",
    "pvec = []\n",
    "for i in vec:\n",
    "    pvec.append(scipy.stats.lognorm.pdf(x=i,s=args_temp[0],scale=args_temp[2],loc=args_temp[1]))\n",
    "ax2.plot(vec,pvec)\n",
    "plt.xticks(np.arange(0, 2.8, 0.1))\n",
    "plt.draw()\n",
    "\n"
   ]
  },
  {
   "cell_type": "markdown",
   "metadata": {},
   "source": [
    "**2)**"
   ]
  },
  {
   "cell_type": "markdown",
   "metadata": {},
   "source": [
    "**Muestra aleatoria**"
   ]
  },
  {
   "cell_type": "code",
   "execution_count": 284,
   "metadata": {},
   "outputs": [],
   "source": [
    "def muestra_aleatoria(x):\n",
    "    n = random.randint(1,len(datos))\n",
    "    nueva_muestra = datos[:n]\n",
    "    return nueva_muestra"
   ]
  },
  {
   "cell_type": "code",
   "execution_count": 285,
   "metadata": {},
   "outputs": [
    {
     "data": {
      "text/plain": [
       "0       0.5140\n",
       "1       0.2255\n",
       "2       0.6770\n",
       "3       0.5160\n",
       "4       0.2050\n",
       "         ...  \n",
       "1356    0.8895\n",
       "1357    0.9595\n",
       "1358    1.2380\n",
       "1359    0.9755\n",
       "1360    0.9025\n",
       "Name: Peso entero(g), Length: 1361, dtype: float64"
      ]
     },
     "execution_count": 285,
     "metadata": {},
     "output_type": "execute_result"
    }
   ],
   "source": [
    "aleatoria = muestra_aleatoria(datos)\n",
    "aleatoria"
   ]
  },
  {
   "cell_type": "markdown",
   "metadata": {},
   "source": [
    "**Calculo estadisticos**"
   ]
  },
  {
   "cell_type": "code",
   "execution_count": 286,
   "metadata": {},
   "outputs": [
    {
     "name": "stdout",
     "output_type": "stream",
     "text": [
      "esperanza empírica: 0.7476884643644378\n",
      "curtosis: 0.5156966034926378\n",
      "asimetria: 0.7379028661613319\n"
     ]
    }
   ],
   "source": [
    "## Cálculo de esperanza y varianza empírica y teórica\n",
    "promedio = sum(aleatoria)/len(aleatoria)\n",
    "curtos = stats.kurtosis(aleatoria)\n",
    "asim = stats.skew(aleatoria)\n",
    "print('esperanza empírica:',promedio)\n",
    "print('curtosis:',curtos)\n",
    "print('asimetria:',asim)"
   ]
  },
  {
   "cell_type": "markdown",
   "metadata": {},
   "source": [
    "**3)**"
   ]
  },
  {
   "cell_type": "markdown",
   "metadata": {},
   "source": [
    "**4)**"
   ]
  },
  {
   "cell_type": "markdown",
   "metadata": {},
   "source": [
    "**5)**"
   ]
  },
  {
   "cell_type": "markdown",
   "metadata": {},
   "source": [
    "## Parte III: Conclusiones\n",
    "\n"
   ]
  },
  {
   "cell_type": "markdown",
   "metadata": {},
   "source": [
    "**1)**"
   ]
  },
  {
   "cell_type": "markdown",
   "metadata": {},
   "source": [
    "**2)**"
   ]
  }
 ],
 "metadata": {
  "kernelspec": {
   "display_name": "Python 3",
   "language": "python",
   "name": "python3"
  },
  "language_info": {
   "codemirror_mode": {
    "name": "ipython",
    "version": 3
   },
   "file_extension": ".py",
   "mimetype": "text/x-python",
   "name": "python",
   "nbconvert_exporter": "python",
   "pygments_lexer": "ipython3",
   "version": "3.8.3"
  }
 },
 "nbformat": 4,
 "nbformat_minor": 2
}
