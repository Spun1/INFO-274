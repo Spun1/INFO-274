{
 "cells": [
  {
   "cell_type": "markdown",
   "metadata": {},
   "source": [
    "# SIMULACIÓN | LABORATORIO 5\n"
   ]
  },
  {
   "cell_type": "markdown",
   "metadata": {},
   "source": [
    "## Boostrap o remuestreo"
   ]
  },
  {
   "cell_type": "code",
   "execution_count": 2,
   "metadata": {},
   "outputs": [],
   "source": [
    "import numpy as np\n",
    "import math\n",
    "import matplotlib.pyplot as plt\n",
    "import pandas as pd\n",
    "import seaborn as sns\n",
    "import scipy \n",
    "from IPython.display import display,Math\n",
    "import ipywidgets as widgets\n",
    "import random\n",
    "import scipy.stats as stats\n",
    "import statistics"
   ]
  },
  {
   "cell_type": "markdown",
   "metadata": {},
   "source": [
    "### Ejercicio 1\n",
    "Suponga que se ha registrado el tiempo que un conjunto de votantes ha permanecido en la cola antes de votar. Y que a partir de dichos datos, estamos interesados en calcular un intervalo de confianza para la mediana de dicho tiempo.\n",
    "Para ello utilizaremos remuestreo o bootstrap.\n",
    "1. Analice el código y evalue el número de muestras de bootstrap para alcanzar convergencia de la varianza estimada de la mediana.\n",
    "2. Calcule el error cuadrático medio de la mediana.\n",
    "3. Escoja otro estadístico de la muestra y calcule su incerteza con la técnica de boostrap"
   ]
  },
  {
   "cell_type": "code",
   "execution_count": 3,
   "metadata": {},
   "outputs": [
    {
     "name": "stdout",
     "output_type": "stream",
     "text": [
      "19.5\n",
      "29.584747474747473\n"
     ]
    },
    {
     "data": {
      "text/latex": [
       "$\\displaystyle 19.5 \\pm 10.7$"
      ],
      "text/plain": [
       "<IPython.core.display.Math object>"
      ]
     },
     "metadata": {},
     "output_type": "display_data"
    }
   ],
   "source": [
    "datos = [21,10,12,23,180,1,44,125,5,55,4,6,27,22,2,46,15,30,8,18]\n",
    "n=20\n",
    "m = statistics.median(datos)\n",
    "print (m)\n",
    "b=100\n",
    "mm = 0\n",
    "mn =[]\n",
    "for i in range(b):\n",
    "    dat = np.random.choice(list(datos),size=n,replace=True)\n",
    "    mn.append(statistics.median(dat))\n",
    "var = statistics.variance(mn)\n",
    "print(var)\n",
    "rango = 1.96*math.sqrt(var)\n",
    "display(Math('%0.1f \\pm %0.1f' % (m, rango)))\n",
    "\n",
    "              "
   ]
  },
  {
   "cell_type": "markdown",
   "metadata": {},
   "source": [
    "**Respuesta 1.1**"
   ]
  },
  {
   "cell_type": "code",
   "execution_count": 4,
   "metadata": {},
   "outputs": [],
   "source": [
    "def convergencia(n,datos):\n",
    "    b = [10,100,1000,10000,100000]\n",
    "    mn =[]\n",
    "    var = []\n",
    "    for i in range (len(b)):\n",
    "        for j in range(b[i]):\n",
    "            dat = np.random.choice(list(datos),size=n,replace=True)\n",
    "            mn.append(statistics.median(dat))\n",
    "        var += [statistics.variance(mn)]\n",
    "    return var"
   ]
  },
  {
   "cell_type": "code",
   "execution_count": 5,
   "metadata": {},
   "outputs": [],
   "source": [
    "conv = convergencia(20,datos)\n"
   ]
  },
  {
   "cell_type": "code",
   "execution_count": 6,
   "metadata": {},
   "outputs": [
    {
     "data": {
      "text/plain": [
       "[<matplotlib.lines.Line2D at 0x118cd1d60>]"
      ]
     },
     "execution_count": 6,
     "metadata": {},
     "output_type": "execute_result"
    },
    {
     "data": {
      "image/png": "[encoded data removed]",
      "text/plain": [
       "<Figure size 960x320 with 1 Axes>"
      ]
     },
     "metadata": {
      "needs_background": "light"
     },
     "output_type": "display_data"
    }
   ],
   "source": [
    "fig, ax = plt.subplots(1, 1,figsize=(12, 4), dpi=80)\n",
    "ax.plot(conv)\n"
   ]
  },
  {
   "cell_type": "markdown",
   "metadata": {},
   "source": [
    "De este grafico podemos ver claramente que el número de muestras de bootstrap para alcanzar convergencia de la varianza estimada de la mediana es aproximadamente 100000 "
   ]
  },
  {
   "cell_type": "markdown",
   "metadata": {},
   "source": [
    "**Respuesta 1.2**"
   ]
  },
  {
   "cell_type": "code",
   "execution_count": 7,
   "metadata": {},
   "outputs": [
    {
     "data": {
      "text/plain": [
       "30.24747474747475"
      ]
     },
     "execution_count": 7,
     "metadata": {},
     "output_type": "execute_result"
    }
   ],
   "source": [
    "##error cuadrático\n",
    "def suma(mn, n, b):\n",
    "    s = 0\n",
    "    for i in range(b):\n",
    "        s+=((mn[i]-n)**2)\n",
    "    return s\n",
    "\n",
    "ec = (1/(b-1))*suma(mn, m, b)\n",
    "ec"
   ]
  },
  {
   "cell_type": "markdown",
   "metadata": {},
   "source": [
    "**Respuesta 1.3**"
   ]
  },
  {
   "cell_type": "code",
   "execution_count": 8,
   "metadata": {},
   "outputs": [
    {
     "name": "stdout",
     "output_type": "stream",
     "text": [
      "32.7\n",
      "98\n"
     ]
    },
    {
     "data": {
      "text/latex": [
       "$\\displaystyle 32.7 \\pm 19.4$"
      ],
      "text/plain": [
       "<IPython.core.display.Math object>"
      ]
     },
     "metadata": {},
     "output_type": "display_data"
    }
   ],
   "source": [
    "datos = [21,10,12,23,180,1,44,125,5,55,4,6,27,22,2,46,15,30,8,18]\n",
    "n=20\n",
    "m = statistics.mean(datos)\n",
    "print (m)\n",
    "b=100\n",
    "mm = 0\n",
    "mn =[]\n",
    "for i in range(b):\n",
    "    dat = np.random.choice(list(datos),size=n,replace=True)\n",
    "    mn.append(statistics.mean(dat))\n",
    "var = statistics.variance(mn)\n",
    "print(var)\n",
    "rango = 1.96*math.sqrt(var)\n",
    "display(Math('%0.1f \\pm %0.1f' % (m, rango)))\n"
   ]
  },
  {
   "cell_type": "markdown",
   "metadata": {},
   "source": [
    "### Ejercicio 2\n",
    "\n",
    "Suponga que los datos previamente registrados provienen de una distribución exponencial de tasa $\\lambda$. \n",
    "\n",
    "1. Calcule el estimador máximo verosímil de $\\lambda$\n",
    "2. Utilice boostrap paramétrico para estimar la incerteza del parámetro estimado en (1). Estime el número de muestras para alcanzar convergencia.\n",
    "3. Repita el ejercicio con el coeficiente de asimetría de la muestra.\n",
    "\n"
   ]
  },
  {
   "cell_type": "markdown",
   "metadata": {},
   "source": [
    "**Respuesta 2.1**"
   ]
  },
  {
   "cell_type": "code",
   "execution_count": 86,
   "metadata": {},
   "outputs": [
    {
     "name": "stdout",
     "output_type": "stream",
     "text": [
      "El estimador máximo verosimil de lambda es:  31.700000000000003\n"
     ]
    }
   ],
   "source": [
    "loc0,lamb0 = scipy.stats.expon.fit(datos)\n",
    "\n",
    "print(\"El estimador máximo verosimil de lambda es: \", lamb0)"
   ]
  },
  {
   "cell_type": "markdown",
   "metadata": {},
   "source": [
    "**Respuesta 2.2**"
   ]
  },
  {
   "cell_type": "code",
   "execution_count": 87,
   "metadata": {},
   "outputs": [
    {
     "name": "stdout",
     "output_type": "stream",
     "text": [
      "110.96349974747476\n"
     ]
    },
    {
     "data": {
      "text/latex": [
       "$\\displaystyle 32.7 \\pm 0.1$"
      ],
      "text/plain": [
       "<IPython.core.display.Math object>"
      ]
     },
     "metadata": {},
     "output_type": "display_data"
    }
   ],
   "source": [
    "b = 100\n",
    "lamb =[]\n",
    "for i in range(b):\n",
    "    dat = np.random.choice(list(datos),size=n,replace=True)\n",
    "    a, l = scipy.stats.expon.fit(dat)\n",
    "    lamb.append(l)\n",
    "varlamb = statistics.variance(lamb)\n",
    "print(varlamb)\n",
    "rango = (1/(b-1))*math.sqrt(varlamb)\n",
    "display(Math('%0.1f \\pm %0.1f' % (m, rango)))"
   ]
  },
  {
   "cell_type": "code",
   "execution_count": 88,
   "metadata": {},
   "outputs": [],
   "source": [
    "def conv_lamb(n,datos):\n",
    "    b = [10,100,1000,10000,100000]\n",
    "    varlamb = []\n",
    "    for i in range (len(b)):\n",
    "        lamb =[]\n",
    "        for j in range(b[i]):\n",
    "            dat = np.random.choice(list(datos),size=n,replace=True)\n",
    "            a, l = scipy.stats.expon.fit(dat)\n",
    "            lamb.append(l)\n",
    "        varlamb += [statistics.variance(lamb)]\n",
    "    return varlamb"
   ]
  },
  {
   "cell_type": "code",
   "execution_count": 89,
   "metadata": {},
   "outputs": [
    {
     "data": {
      "text/plain": [
       "[<matplotlib.lines.Line2D at 0x11cbeee20>]"
      ]
     },
     "execution_count": 89,
     "metadata": {},
     "output_type": "execute_result"
    },
    {
     "data": {
      "image/png": "[encoded data removed]",
      "text/plain": [
       "<Figure size 960x320 with 1 Axes>"
      ]
     },
     "metadata": {
      "needs_background": "light"
     },
     "output_type": "display_data"
    }
   ],
   "source": [
    "conv_l = conv_lamb(20, datos)\n",
    "\n",
    "fig, ax = plt.subplots(1, 1,figsize=(12, 4), dpi=80)\n",
    "ax.plot(conv_l)\n"
   ]
  },
  {
   "cell_type": "markdown",
   "metadata": {},
   "source": [
    "El número de muestras necesarias para alcanzar la convergencia de la varianza en los valores de lambda es de alrededor de 10000"
   ]
  },
  {
   "cell_type": "markdown",
   "metadata": {},
   "source": [
    "**Respuesta 2.3**"
   ]
  },
  {
   "cell_type": "code",
   "execution_count": 90,
   "metadata": {},
   "outputs": [
    {
     "name": "stdout",
     "output_type": "stream",
     "text": [
      "0.4864192220876488\n"
     ]
    },
    {
     "data": {
      "text/latex": [
       "$\\displaystyle 32.7 \\pm 0.0$"
      ],
      "text/plain": [
       "<IPython.core.display.Math object>"
      ]
     },
     "metadata": {},
     "output_type": "display_data"
    }
   ],
   "source": [
    "b = 100\n",
    "sks =[]\n",
    "for i in range(b):\n",
    "    dat = np.random.choice(list(datos),size=n,replace=True)\n",
    "    a, l = scipy.stats.expon.fit(dat)\n",
    "    sks.append(scipy.stats.skew(dat))\n",
    "varsks = statistics.variance(sks)\n",
    "print(varsks)\n",
    "rango = (1/(b-1))*math.sqrt(varsks)\n",
    "display(Math('%0.1f \\pm %0.1f' % (m, rango)))"
   ]
  },
  {
   "cell_type": "code",
   "execution_count": 91,
   "metadata": {},
   "outputs": [],
   "source": [
    "def conv_skew(n,datos):\n",
    "    b = [10,100,1000,10000,100000]\n",
    "    var_sk = []\n",
    "    for i in range (len(b)):\n",
    "        sks =[]\n",
    "        for j in range(b[i]):\n",
    "            dat = np.random.choice(list(datos),size=n,replace=True)\n",
    "            sks.append(scipy.stats.skew(dat))\n",
    "        var_sk.append(statistics.variance(sks))\n",
    "    \n",
    "    return var_sk"
   ]
  },
  {
   "cell_type": "code",
   "execution_count": 92,
   "metadata": {},
   "outputs": [
    {
     "data": {
      "text/plain": [
       "[<matplotlib.lines.Line2D at 0x11c97e580>]"
      ]
     },
     "execution_count": 92,
     "metadata": {},
     "output_type": "execute_result"
    },
    {
     "data": {
      "image/png": "[encoded data removed]",
      "text/plain": [
       "<Figure size 960x320 with 1 Axes>"
      ]
     },
     "metadata": {
      "needs_background": "light"
     },
     "output_type": "display_data"
    }
   ],
   "source": [
    "conv_s = conv_skew(20,datos)\n",
    "\n",
    "fig, ax = plt.subplots(1, 1,figsize=(12, 4), dpi=80)\n",
    "ax.plot(conv_s)\n"
   ]
  },
  {
   "cell_type": "markdown",
   "metadata": {},
   "source": [
    "El número de muestras necesarias para la convergencia de la varianza de la asimetría es de 1000"
   ]
  },
  {
   "cell_type": "code",
   "execution_count": null,
   "metadata": {},
   "outputs": [],
   "source": []
  }
 ],
 "metadata": {
  "kernelspec": {
   "display_name": "Python 3",
   "language": "python",
   "name": "python3"
  },
  "language_info": {
   "codemirror_mode": {
    "name": "ipython",
    "version": 3
   },
   "file_extension": ".py",
   "mimetype": "text/x-python",
   "name": "python",
   "nbconvert_exporter": "python",
   "pygments_lexer": "ipython3",
   "version": "3.8.3"
  }
 },
 "nbformat": 4,
 "nbformat_minor": 2
}
